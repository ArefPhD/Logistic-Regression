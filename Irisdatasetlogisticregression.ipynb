{
  "nbformat": 4,
  "nbformat_minor": 0,
  "metadata": {
    "colab": {
      "name": "Untitled142.ipynb",
      "private_outputs": true,
      "provenance": []
    },
    "kernelspec": {
      "name": "python3",
      "display_name": "Python 3"
    },
    "language_info": {
      "name": "python"
    }
  },
  "cells": [
    {
      "cell_type": "code",
      "source": [
        "import numpy as np"
      ],
      "metadata": {
        "id": "ZUtEKfzUM1VH"
      },
      "execution_count": null,
      "outputs": []
    },
    {
      "cell_type": "code",
      "execution_count": null,
      "metadata": {
        "id": "VtFwm5vDMxVq"
      },
      "outputs": [],
      "source": [
        "from sklearn import datasets\n",
        "iris = datasets.load_iris()\n",
        "list(iris.keys())\n",
        "['data', 'target', 'target_names', 'DESCR', 'feature_names', 'filename']\n",
        "X = iris[\"data\"][:, 3:] # petal width\n",
        "y = (iris[\"target\"] == 2).astype(np.int) # 1 if Iris-Virginica, else 0"
      ]
    },
    {
      "cell_type": "code",
      "source": [
        "from sklearn.model_selection import train_test_split\n",
        "\n",
        "X_train, X_test, y_train, y_test = train_test_split(X, y, test_size=0.2, random_state=1)"
      ],
      "metadata": {
        "id": "1VkBRqB1NIa1"
      },
      "execution_count": null,
      "outputs": []
    },
    {
      "cell_type": "code",
      "source": [
        "from sklearn.linear_model import LogisticRegression\n",
        "log_reg = LogisticRegression()\n",
        "log_reg.fit(X_train, y_train)"
      ],
      "metadata": {
        "id": "dXbIdrbSM5rd"
      },
      "execution_count": null,
      "outputs": []
    },
    {
      "cell_type": "markdown",
      "source": [
        "# **Accuracy of performing the experiment is 97%**"
      ],
      "metadata": {
        "id": "2isSqo0dNMKd"
      }
    },
    {
      "cell_type": "code",
      "source": [
        "from sklearn.metrics import accuracy_score\n",
        "\n",
        "# Predict test set labels\n",
        "y_pred =log_reg .predict(X_test)\n",
        "\n",
        "# Compute test set accuracy\n",
        "acc = accuracy_score(y_test, y_pred)\n",
        "print(\"Test set accuracy: {:.2f}\".format(acc))"
      ],
      "metadata": {
        "id": "2nfdTTc_NCKu"
      },
      "execution_count": null,
      "outputs": []
    },
    {
      "cell_type": "code",
      "source": [
        "import matplotlib.pyplot as plt"
      ],
      "metadata": {
        "id": "NgdisG9DtOY0"
      },
      "execution_count": null,
      "outputs": []
    },
    {
      "cell_type": "code",
      "source": [
        "def sigmoid2(x): \n",
        "\n",
        "    return np.divide(1, 1+np.exp(-x))"
      ],
      "metadata": {
        "id": "RUo3jcvJtZKT"
      },
      "execution_count": null,
      "outputs": []
    },
    {
      "cell_type": "code",
      "source": [
        "def sigmoid1(x):\n",
        "    ''' It returns 1/(1+exp(-x)). where the values lies between zero and one '''\n",
        "\n",
        "    return 1/(1+np.exp(-x))"
      ],
      "metadata": {
        "id": "UXfOe_ektYf8"
      },
      "execution_count": null,
      "outputs": []
    },
    {
      "cell_type": "code",
      "source": [
        "x = np.linspace(-10, 10)\n",
        "plt.plot(x, sigmoid2(x),'b')\n",
        "y=np.gradient(sigmoid2(x))\n",
        "plt.plot(x, y, 'r')\n",
        "plt.axis('tight')\n",
        "plt.title('Activation Function :Sigmoid')\n",
        "plt.show()\n"
      ],
      "metadata": {
        "id": "SsHx_BPDNj53"
      },
      "execution_count": null,
      "outputs": []
    },
    {
      "cell_type": "markdown",
      "source": [
        "# **Linear regression is not capable to classify the subject in this example**"
      ],
      "metadata": {
        "id": "IHwFq9KzuzQo"
      }
    },
    {
      "cell_type": "code",
      "source": [
        "import numpy as np\n",
        "from sklearn.linear_model import LinearRegression\n",
        "\n",
        "reg = LinearRegression().fit(X, y)\n",
        "reg.score(X, y)\n",
        "\n",
        "reg.coef_\n",
        "\n",
        "reg.intercept_\n",
        "plt.plot(X, y, 'b')\n",
        "\n",
        "plt.plot(X, np.add(np.dot(X,reg.coef_),reg.intercept_), 'r')\n"
      ],
      "metadata": {
        "id": "7lEQ3TFQuYpb"
      },
      "execution_count": null,
      "outputs": []
    },
    {
      "cell_type": "code",
      "source": [
        "reg.coef_"
      ],
      "metadata": {
        "id": "MwHftslNugHr"
      },
      "execution_count": null,
      "outputs": []
    },
    {
      "cell_type": "code",
      "source": [
        ""
      ],
      "metadata": {
        "id": "gG3SHW5eu3mx"
      },
      "execution_count": null,
      "outputs": []
    }
  ]
}